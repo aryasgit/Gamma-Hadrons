{
 "cells": [
  {
   "cell_type": "code",
   "execution_count": null,
   "id": "652b22b4",
   "metadata": {},
   "outputs": [],
   "source": [
    "import pandas as pd\n",
    "import numpy as np"
   ]
  },
  {
   "cell_type": "code",
   "execution_count": null,
   "id": "072432c5",
   "metadata": {},
   "outputs": [],
   "source": [
    "data = pd.read_csv('/Users/arya/Desktop/gamma vs hadrons/data/processed/magic04.data')\n",
    "data.head()"
   ]
  },
  {
   "cell_type": "code",
   "execution_count": null,
   "id": "1305e570",
   "metadata": {},
   "outputs": [],
   "source": [
    "data.columns"
   ]
  },
  {
   "cell_type": "code",
   "execution_count": null,
   "id": "4ea106c7",
   "metadata": {},
   "outputs": [],
   "source": [
    "data.info"
   ]
  },
  {
   "cell_type": "code",
   "execution_count": null,
   "id": "56d9eb04",
   "metadata": {},
   "outputs": [],
   "source": [
    "data.describe"
   ]
  },
  {
   "cell_type": "code",
   "execution_count": null,
   "id": "ad0960d8",
   "metadata": {},
   "outputs": [],
   "source": [
    "cols = [\"fLength\", \"fWidth\", \"fSize\", \"fConc\", \"fConc1\", \"fAsym\", \"fM3Long\", \"fM3Trans\", \"fAlpha\", \"fDist\", \"class\"]\n",
    "data = pd.read_csv('/Users/arya/Desktop/gamma vs hadrons/data/processed/magic04.data', names = cols)\n",
    "data.head()"
   ]
  },
  {
   "cell_type": "code",
   "execution_count": null,
   "id": "6516d1c6",
   "metadata": {},
   "outputs": [],
   "source": [
    "data['class'] = data['class'].replace('g', 1)\n",
    "data['class'] = data['class'].replace('h', 0)\n",
    "data.head()"
   ]
  },
  {
   "cell_type": "code",
   "execution_count": null,
   "id": "fd16807a",
   "metadata": {},
   "outputs": [],
   "source": [
    "import matplotlib.pyplot as plt\n",
    "\n",
    "for label in cols[:-1]:\n",
    "    plt.hist(data[data['class']==1][label], label = 'gamma', alpha =0.5, color = 'red', density = True)\n",
    "    plt.hist(data[data['class']==0][label], label = 'hadron', alpha =0.5, color = 'blue', density = True)\n",
    "    plt.title(label)\n",
    "    plt.ylabel('Probability')\n",
    "    plt.xlabel(label)\n",
    "    plt.legend()\n",
    "    plt.show()\n"
   ]
  },
  {
   "cell_type": "code",
   "execution_count": null,
   "id": "4107297f",
   "metadata": {},
   "outputs": [],
   "source": [
    "train, valid, test = np.split(data.sample(frac=1), [int(0.6*len(data)), int(0.8*len(data))])"
   ]
  },
  {
   "cell_type": "code",
   "execution_count": null,
   "id": "51ae4884",
   "metadata": {},
   "outputs": [],
   "source": [
    "from sklearn.preprocessing import StandardScaler\n",
    "from imblearn.over_sampling import RandomOverSampler"
   ]
  },
  {
   "cell_type": "code",
   "execution_count": null,
   "id": "6a2487fe",
   "metadata": {},
   "outputs": [],
   "source": [
    "def dataframe_scaler(dataframe, oversample= False):\n",
    "    x = dataframe[dataframe.columns[:-1]].values\n",
    "    y = dataframe[dataframe.columns[-1]].values\n",
    "\n",
    "    scaler = StandardScaler()\n",
    "    x = scaler.fit_transform(x)\n",
    "\n",
    "    if oversample==True:\n",
    "        ros = RandomOverSampler()\n",
    "        x, y = ros.fit_resample(x,y)\n",
    "\n",
    "    data = np.hstack((x, np.reshape(y, (-1,1))))\n",
    "\n",
    "    return data, x,y"
   ]
  },
  {
   "cell_type": "code",
   "execution_count": null,
   "id": "05b5416e",
   "metadata": {},
   "outputs": [],
   "source": [
    "train, x_train, y_train = dataframe_scaler(train, oversample=True)\n",
    "valid, x_valid, y_valid = dataframe_scaler(valid, oversample=False)\n",
    "test, x_test, y_test = dataframe_scaler(test, oversample=False)\n",
    "print(len(x_train), len(y_train))"
   ]
  },
  {
   "cell_type": "markdown",
   "id": "5346ad99",
   "metadata": {},
   "source": [
    "K Nearest Neighbours"
   ]
  },
  {
   "cell_type": "code",
   "execution_count": null,
   "id": "53e468e2",
   "metadata": {},
   "outputs": [],
   "source": [
    "from sklearn.neighbors import KNeighborsClassifier\n",
    "from sklearn.metrics import classification_report\n",
    "\n",
    "knn_model= KNeighborsClassifier(n_neighbors = 9)\n",
    "knn_model.fit(x_train, y_train)\n",
    "y_pred = knn_model.predict(x_test)\n",
    "print(classification_report(y_test, y_pred))\n",
    "print(y_pred)\n",
    "print(y_test)"
   ]
  },
  {
   "cell_type": "markdown",
   "id": "26b96b56",
   "metadata": {},
   "source": [
    "Naive Bayes"
   ]
  },
  {
   "cell_type": "code",
   "execution_count": null,
   "id": "3e89985d",
   "metadata": {},
   "outputs": [],
   "source": [
    "from sklearn.naive_bayes import GaussianNB\n",
    "nb_model = GaussianNB()\n",
    "nb_model = nb_model.fit(x_train, y_train)\n",
    "y_pred  = nb_model.predict(x_test)\n",
    "print(classification_report(y_test, y_pred))"
   ]
  },
  {
   "cell_type": "markdown",
   "id": "52c2ae29",
   "metadata": {},
   "source": [
    "Logisitic Regression"
   ]
  },
  {
   "cell_type": "code",
   "execution_count": null,
   "id": "c24735dd",
   "metadata": {},
   "outputs": [],
   "source": [
    "from sklearn.linear_model import LogisticRegression\n",
    "lr_model = LogisticRegression()\n",
    "lr_model = lr_model.fit(x_train, y_train)\n",
    "y_pred = lr_model.predict(x_test)\n",
    "print(classification_report(y_test, y_pred))\n"
   ]
  },
  {
   "cell_type": "markdown",
   "id": "bba83e2e",
   "metadata": {},
   "source": [
    "Support Vector Machines"
   ]
  },
  {
   "cell_type": "code",
   "execution_count": null,
   "id": "4526f452",
   "metadata": {},
   "outputs": [],
   "source": [
    "from sklearn.svm import SVC\n",
    "svm_model = SVC()\n",
    "svm_model = svm_model.fit(x_train, y_train)\n",
    "y_pred = svm_model.predict(x_test)\n",
    "print(classification_report(y_test, y_pred))"
   ]
  },
  {
   "cell_type": "code",
   "execution_count": null,
   "id": "68f6b16b",
   "metadata": {},
   "outputs": [],
   "source": [
    "import tensorflow as tf"
   ]
  },
  {
   "cell_type": "code",
   "execution_count": null,
   "id": "acb49b03",
   "metadata": {},
   "outputs": [],
   "source": [
    "import sys\n",
    "sys.path.insert(1,'/Users/arya/Desktop/gamma vs hadrons/src')\n",
    "from plot_history import plot_history\n",
    "sys.path.insert(1,'/Users/arya/Desktop/gamma vs hadrons/src/modeling')\n",
    "from train import train_model"
   ]
  },
  {
   "cell_type": "code",
   "execution_count": null,
   "id": "54e4881d",
   "metadata": {},
   "outputs": [],
   "source": [
    "#plot history contains a function to plot history of the training, the losses and accuracy over epochs\n",
    "\n",
    "'''\n",
    "def plot_history(history):\n",
    "    fig, (ax1, ax2) = plt.subplots(1, 2, figsize=(10, 4))\n",
    "    ax1.plot(history.history[\"loss\"], label=\"loss\")\n",
    "    ax1.plot(history.history[\"val_loss\"], label=\"val_loss\")\n",
    "    ax1.set_xlabel(\"Epoch\")\n",
    "    ax1.set_ylabel(\"Binary crossentropy\")\n",
    "    ax1.grid(True)\n",
    "    ax2.plot(history.history[\"accuracy\"], label=\"accuracy\")\n",
    "    ax2.plot(history.history[\"val_accuracy\"], label=\"val_accuracy\")\n",
    "    ax2.set_xlabel(\"Epoch\")\n",
    "    ax2.set_ylabel(\"Accuracy\")\n",
    "    ax2.grid(True)\n",
    "    plt.show()\n",
    "\n",
    "'''\n",
    "\n",
    "#train contains a generic tensorflow neural network with variable parameters; number of nodes, dropout rate, batch_size, learning rate, epochs\n",
    "\n",
    "'''\n",
    "def train_model(x_train, y_train, num_nodes, dropout, batch_size, lr, epochs):\n",
    "    nn_model = tf.keras.models.Sequential(\n",
    "        [\n",
    "            tf.keras.layers.Dense(num_nodes, activation=\"relu\", input_shape=(10,)),\n",
    "            tf.keras.layers.Dropout(dropout),\n",
    "            tf.keras.layers.Dense(num_nodes, activation=\"relu\"),\n",
    "            tf.keras.layers.Dropout(dropout),\n",
    "            tf.keras.layers.Dense(1, activation=\"sigmoid\"),\n",
    "        ]\n",
    "    )\n",
    "\n",
    "    nn_model.compile(\n",
    "        optimizer=tf.keras.optimizers.Adam(lr),\n",
    "        loss=tf.keras.losses.BinaryCrossentropy(),\n",
    "        metrics=[\"accuracy\"],\n",
    "    )\n",
    "    history = nn_model.fit(\n",
    "        x_train, y_train, batch_size=batch_size, epochs=epochs, validation_split=0.2\n",
    "    )\n",
    "\n",
    "    return nn_model, history\n",
    "'''\n"
   ]
  },
  {
   "cell_type": "code",
   "execution_count": null,
   "id": "110524da",
   "metadata": {},
   "outputs": [],
   "source": [
    "least_val_loss = float('inf')\n",
    "least_loss_model = None\n",
    "epochs = 100\n",
    "for num_nodes in [16,32,64]:\n",
    "  for dropout in [0,0.2]:\n",
    "    for batch_size in [32,64,128]:\n",
    "      for lr in [0.01, 0.05, 0.001]:\n",
    "        model, history = train_model(x_train, y_train, num_nodes = num_nodes, dropout = dropout, batch_size =batch_size, lr= lr, epochs = epochs)\n",
    "        print(f\"{num_nodes} nodes, dropout {dropout}, lr {lr}, batch size {batch_size}\")\n",
    "        plot_history(history)\n",
    "        val_loss = model.evaluate(x_valid, y_valid)[0]\n",
    "        print(f'Validation loss: {val_loss}')\n",
    "\n",
    "        if val_loss < least_val_loss: #so that we can retrieve the set of parameters that gave us the lowest validation losses\n",
    "          least_val_loss = val_loss\n",
    "          least_loss_model = model\n",
    "\n"
   ]
  },
  {
   "cell_type": "code",
   "execution_count": 35,
   "id": "84a20855",
   "metadata": {},
   "outputs": [
    {
     "name": "stdout",
     "output_type": "stream",
     "text": [
      "\u001b[1m119/119\u001b[0m \u001b[32m━━━━━━━━━━━━━━━━━━━━\u001b[0m\u001b[37m\u001b[0m \u001b[1m0s\u001b[0m 328us/step\n",
      "              precision    recall  f1-score   support\n",
      "\n",
      "           0       0.92      0.68      0.78      1347\n",
      "           1       0.85      0.97      0.90      2457\n",
      "\n",
      "    accuracy                           0.86      3804\n",
      "   macro avg       0.88      0.82      0.84      3804\n",
      "weighted avg       0.87      0.86      0.86      3804\n",
      "\n"
     ]
    }
   ],
   "source": [
    "y_pred = least_loss_model.predict(x_test)\n",
    "y_pred = (y_pred>0.5).astype(int).reshape(-1,)\n",
    "\n",
    "print(classification_report(y_test, y_pred))"
   ]
  }
 ],
 "metadata": {
  "kernelspec": {
   "display_name": ".venv",
   "language": "python",
   "name": "python3"
  },
  "language_info": {
   "codemirror_mode": {
    "name": "ipython",
    "version": 3
   },
   "file_extension": ".py",
   "mimetype": "text/x-python",
   "name": "python",
   "nbconvert_exporter": "python",
   "pygments_lexer": "ipython3",
   "version": "3.13.5"
  }
 },
 "nbformat": 4,
 "nbformat_minor": 5
}
